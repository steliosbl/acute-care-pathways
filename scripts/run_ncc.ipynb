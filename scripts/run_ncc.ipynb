{
 "cells": [
  {
   "cell_type": "code",
   "execution_count": 2,
   "metadata": {},
   "outputs": [],
   "source": [
    "import os"
   ]
  },
  {
   "cell_type": "code",
   "execution_count": 3,
   "metadata": {},
   "outputs": [],
   "source": [
    "def generate_command(filename, batch_size=None, model=None, experiment=None, debug=False):\n",
    "    command = f'python {filename}'\n",
    "    if batch_size is not None:\n",
    "        command += f' --batch_size={batch_size}'\n",
    "    if model is not None:\n",
    "        command += f' --model={model}'\n",
    "    if experiment is not None:\n",
    "        command += f' --experiment={experiment}'\n",
    "    if debug:\n",
    "        command += ' --debug'\n",
    "\n",
    "    return command"
   ]
  },
  {
   "cell_type": "code",
   "execution_count": 4,
   "metadata": {},
   "outputs": [],
   "source": [
    "def generate_file(command, name):\n",
    "    file_contents = f\"\"\"#!/bin/bash\n",
    "#SBATCH -N 1\n",
    "#SBATCH -c 4\n",
    "#SBATCH -p ug-gpu-small\n",
    "#SBATCH --gres=gpu\n",
    "#SBATCH -t 00-18:00:00\n",
    "#SBATCH --mem=28g\n",
    "#SBATCH --qos=short\n",
    "#SBATCH --job-name={name}\n",
    "#SBATCH --mail-type=END,FAIL\n",
    "#SBATCH --mail-user kqcr86@durham.ac.uk\n",
    "\n",
    "eval \"$('/home2/kqcr86/anaconda3/bin/conda' 'shell.bash' 'hook' 2> /dev/null)\"\n",
    "conda activate py310\n",
    "{command}\n",
    "\"\"\"\n",
    "    return file_contents"
   ]
  },
  {
   "cell_type": "code",
   "execution_count": 5,
   "metadata": {},
   "outputs": [],
   "source": [
    "def run_file(contents):\n",
    "    with open('run.sbatch', 'w') as file:\n",
    "        file.write(contents)\n",
    "\n",
    "    return os.system('sbatch run.sbatch')"
   ]
  },
  {
   "cell_type": "code",
   "execution_count": 13,
   "metadata": {},
   "outputs": [],
   "source": [
    "batch_sizes = {\n",
    "    '41': 56,\n",
    "    '42': 12,\n",
    "    '43': 12,\n",
    "    '44': 12,\n",
    "    '45': 12\n",
    "}"
   ]
  },
  {
   "cell_type": "code",
   "execution_count": null,
   "metadata": {},
   "outputs": [],
   "source": [
    "for experiment in ['41', '42', '43', '44', '45']:\n",
    "    command = generate_command('transf_fine_4.py', model='BioClinicalBert', experiment=experiment, batch_size=batch_sizes[experiment])\n",
    "    file_contents = generate_file(command, name=f'bio_{experiment}',)\n",
    "    run_file(file_contents)"
   ]
  },
  {
   "cell_type": "code",
   "execution_count": 19,
   "metadata": {},
   "outputs": [
    {
     "name": "stdout",
     "output_type": "stream",
     "text": [
      "Submitted batch job 250515\n",
      "Submitted batch job 250516\n",
      "Submitted batch job 250517\n",
      "Submitted batch job 250518\n"
     ]
    }
   ],
   "source": [
    "for model in ['Bert', 'PubMedBert']:\n",
    "    command = generate_command('transf_fine_4.py', model=model, experiment='41', batch_size=batch_sizes['41'])\n",
    "    file_contents = generate_file(command, name=f'41_{model}')\n",
    "    run_file(file_contents)\n",
    "\n",
    "os.remove('run.sbatch')"
   ]
  },
  {
   "cell_type": "code",
   "execution_count": 20,
   "metadata": {},
   "outputs": [],
   "source": [
    "for _ in range(250517, 250518+1):\n",
    "    os.system(f'scancel {_}')"
   ]
  }
 ],
 "metadata": {
  "kernelspec": {
   "display_name": "py310",
   "language": "python",
   "name": "python3"
  },
  "language_info": {
   "codemirror_mode": {
    "name": "ipython",
    "version": 3
   },
   "file_extension": ".py",
   "mimetype": "text/x-python",
   "name": "python",
   "nbconvert_exporter": "python",
   "pygments_lexer": "ipython3",
   "version": "3.10.9"
  },
  "orig_nbformat": 4,
  "vscode": {
   "interpreter": {
    "hash": "c2104865e4d02caf357b4f17570cecf3aad1d3e04a9c3efec371f5583b6707d2"
   }
  }
 },
 "nbformat": 4,
 "nbformat_minor": 2
}
